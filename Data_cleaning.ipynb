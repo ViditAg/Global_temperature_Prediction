{
    "nbformat_minor": 1, 
    "cells": [
        {
            "source": "# Cleaning up data", 
            "cell_type": "markdown", 
            "metadata": {}
        }, 
        {
            "source": "### Data Source\nThe raw data text file contains a detailed summary of the land-surface average results produced by the Berkeley Averaging method. This analysis was run on 12-Mar-2019 08:22:40.\nTemperatures are in Celsius and reported as anomalies relative to the Jan 1951-Dec 1980 average (8.65 Celsius)\nUncertainties represent the 95% confidence interval for statistical and spatial undersampling effects. \n\nSource url: http://berkeleyearth.lbl.gov/auto/Global/Complete_TAVG_complete.txt", 
            "cell_type": "markdown", 
            "metadata": {}
        }, 
        {
            "source": "### Importing neccessary libraries", 
            "cell_type": "markdown", 
            "metadata": {}
        }, 
        {
            "source": "import pandas as pd\nimport types\nfrom ibm_botocore.client import Config\nimport ibm_boto3\nimport io\nimport numpy as np\nfrom datetime import datetime,timedelta", 
            "cell_type": "code", 
            "metadata": {}, 
            "outputs": [], 
            "execution_count": 1
        }, 
        {
            "source": "### Getting data from object storage into streamingbody object\nWe downloaded the data into the data-assest. But one can directly download the datafile from the weblink provided above.", 
            "cell_type": "markdown", 
            "metadata": {}
        }, 
        {
            "source": "#!wget http://berkeleyearth.lbl.gov/auto/Global/Complete_TAVG_complete.txt", 
            "cell_type": "code", 
            "metadata": {}, 
            "outputs": [
                {
                    "output_type": "stream", 
                    "name": "stdout", 
                    "text": "--2019-03-26 02:39:45--  http://berkeleyearth.lbl.gov/auto/Global/Complete_TAVG_complete.txt\nResolving berkeleyearth.lbl.gov (berkeleyearth.lbl.gov)... 128.3.29.26\nConnecting to berkeleyearth.lbl.gov (berkeleyearth.lbl.gov)|128.3.29.26|:80... connected.\nHTTP request sent, awaiting response... 200 OK\nLength: 318233 (311K) [text/plain]\nSaving to: \u2018Complete_TAVG_complete.txt\u2019\n\n100%[======================================>] 318,233      812KB/s   in 0.4s   \n\n2019-03-26 02:39:46 (812 KB/s) - \u2018Complete_TAVG_complete.txt\u2019 saved [318233/318233]\n\n"
                }
            ], 
            "execution_count": 2
        }, 
        {
            "source": "# @hidden_cell\n# The following code contains the credentials for a file in your IBM Cloud Object Storage.\n# You might want to remove those credentials before you share your notebook.\ncredentials_1 = {\n    'IBM_API_KEY_ID': '',\n    'IAM_SERVICE_ID': '',\n    'ENDPOINT': '',\n    'IBM_AUTH_ENDPOINT': '',\n    'BUCKET': '',\n    'FILE': 'GlobalTemperature.txt'\n}\ncos = ibm_boto3.client('s3',\n                       ibm_api_key_id=credentials_1['IBM_API_KEY_ID'],\n                       ibm_service_instance_id=credentials_1['IAM_SERVICE_ID'],\n                       ibm_auth_endpoint=credentials_1['IBM_AUTH_ENDPOINT'],\n                       config=Config(signature_version='oauth'),\n                       endpoint_url=credentials_1['ENDPOINT'])\nfileobject = cos.get_object(Bucket=credentials_1['BUCKET'], Key=credentials_1['FILE'])['Body'] # create the streamingbody object", 
            "cell_type": "code", 
            "metadata": {}, 
            "outputs": [], 
            "execution_count": null
        }, 
        {
            "source": "### Step 1. Streamingbody object to list of strings\n\n1. convert the input data into string format. \n2. Split the strings of sentences into lists by delimiter of end of sentence (\\\\n).\n3. Remove the first 32 sentences that have the description about the dataset. We only need the datatable.", 
            "cell_type": "markdown", 
            "metadata": {}
        }, 
        {
            "source": "string_data=str(fileobject.read()) # read the fileobject and convert it to string\nstring_data=string_data.split('\\\\n') # split the string into seperate sentences\nstring_data=string_data[32:] # exclude sentences of initial introduction and only include datatable\nstring_data[:10]", 
            "cell_type": "code", 
            "metadata": {}, 
            "outputs": [
                {
                    "output_type": "execute_result", 
                    "data": {
                        "text/plain": "['%                  Monthly          Annual          Five-year        Ten-year        Twenty-year',\n '% Year, Month,  Anomaly, Unc.,   Anomaly, Unc.,   Anomaly, Unc.,   Anomaly, Unc.,   Anomaly, Unc.',\n ' ',\n '  1750     1     0.302  5.003    -0.432  1.274       NaN    NaN       NaN    NaN       NaN    NaN',\n '  1750     2    -1.412  4.161    -0.352  1.181       NaN    NaN       NaN    NaN       NaN    NaN',\n '  1750     3    -0.268  2.682    -0.367  1.082       NaN    NaN       NaN    NaN       NaN    NaN',\n '  1750     4     0.702  1.966    -0.383  1.070       NaN    NaN       NaN    NaN       NaN    NaN',\n '  1750     5    -0.719  2.953    -0.719  0.946       NaN    NaN       NaN    NaN       NaN    NaN',\n '  1750     6    -0.399  3.504    -0.677  0.932       NaN    NaN       NaN    NaN       NaN    NaN',\n '  1750     7     0.469  2.692    -0.755  0.924       NaN    NaN       NaN    NaN       NaN    NaN']"
                    }, 
                    "execution_count": 18, 
                    "metadata": {}
                }
            ], 
            "execution_count": 18
        }, 
        {
            "source": "### Step 2. Create DataFrame\nFrom the list of strings create a dataframe with columns given in the raw text file.", 
            "cell_type": "markdown", 
            "metadata": {}
        }, 
        {
            "source": "Rows_list=[]\nfor string in string_data[3:-1]:\n    Rows_list.append(string.split())\ndf=pd.DataFrame(Rows_list,columns=['year','month','Monthly_Anomaly','Monthly_Uncertainity',\n                                'Annual_Anomaly','Annual_Uncertainity','Five-year_Anomaly','Five-year_Uncertainity',\n                                'Ten-year_Anomaly','Ten-year_Uncertainity','Twenty-year_Anomaly','Twenty-year_Uncertainity'])\ndf.head()", 
            "cell_type": "code", 
            "metadata": {}, 
            "outputs": [
                {
                    "output_type": "execute_result", 
                    "data": {
                        "text/plain": "   year month Monthly_Anomaly Monthly_Uncertainity Annual_Anomaly  \\\n0  1750     1           0.302                5.003         -0.432   \n1  1750     2          -1.412                4.161         -0.352   \n2  1750     3          -0.268                2.682         -0.367   \n3  1750     4           0.702                1.966         -0.383   \n4  1750     5          -0.719                2.953         -0.719   \n\n  Annual_Uncertainity Five-year_Anomaly Five-year_Uncertainity  \\\n0               1.274               NaN                    NaN   \n1               1.181               NaN                    NaN   \n2               1.082               NaN                    NaN   \n3               1.070               NaN                    NaN   \n4               0.946               NaN                    NaN   \n\n  Ten-year_Anomaly Ten-year_Uncertainity Twenty-year_Anomaly  \\\n0              NaN                   NaN                 NaN   \n1              NaN                   NaN                 NaN   \n2              NaN                   NaN                 NaN   \n3              NaN                   NaN                 NaN   \n4              NaN                   NaN                 NaN   \n\n  Twenty-year_Uncertainity  \n0                      NaN  \n1                      NaN  \n2                      NaN  \n3                      NaN  \n4                      NaN  ", 
                        "text/html": "<div>\n<style scoped>\n    .dataframe tbody tr th:only-of-type {\n        vertical-align: middle;\n    }\n\n    .dataframe tbody tr th {\n        vertical-align: top;\n    }\n\n    .dataframe thead th {\n        text-align: right;\n    }\n</style>\n<table border=\"1\" class=\"dataframe\">\n  <thead>\n    <tr style=\"text-align: right;\">\n      <th></th>\n      <th>year</th>\n      <th>month</th>\n      <th>Monthly_Anomaly</th>\n      <th>Monthly_Uncertainity</th>\n      <th>Annual_Anomaly</th>\n      <th>Annual_Uncertainity</th>\n      <th>Five-year_Anomaly</th>\n      <th>Five-year_Uncertainity</th>\n      <th>Ten-year_Anomaly</th>\n      <th>Ten-year_Uncertainity</th>\n      <th>Twenty-year_Anomaly</th>\n      <th>Twenty-year_Uncertainity</th>\n    </tr>\n  </thead>\n  <tbody>\n    <tr>\n      <th>0</th>\n      <td>1750</td>\n      <td>1</td>\n      <td>0.302</td>\n      <td>5.003</td>\n      <td>-0.432</td>\n      <td>1.274</td>\n      <td>NaN</td>\n      <td>NaN</td>\n      <td>NaN</td>\n      <td>NaN</td>\n      <td>NaN</td>\n      <td>NaN</td>\n    </tr>\n    <tr>\n      <th>1</th>\n      <td>1750</td>\n      <td>2</td>\n      <td>-1.412</td>\n      <td>4.161</td>\n      <td>-0.352</td>\n      <td>1.181</td>\n      <td>NaN</td>\n      <td>NaN</td>\n      <td>NaN</td>\n      <td>NaN</td>\n      <td>NaN</td>\n      <td>NaN</td>\n    </tr>\n    <tr>\n      <th>2</th>\n      <td>1750</td>\n      <td>3</td>\n      <td>-0.268</td>\n      <td>2.682</td>\n      <td>-0.367</td>\n      <td>1.082</td>\n      <td>NaN</td>\n      <td>NaN</td>\n      <td>NaN</td>\n      <td>NaN</td>\n      <td>NaN</td>\n      <td>NaN</td>\n    </tr>\n    <tr>\n      <th>3</th>\n      <td>1750</td>\n      <td>4</td>\n      <td>0.702</td>\n      <td>1.966</td>\n      <td>-0.383</td>\n      <td>1.070</td>\n      <td>NaN</td>\n      <td>NaN</td>\n      <td>NaN</td>\n      <td>NaN</td>\n      <td>NaN</td>\n      <td>NaN</td>\n    </tr>\n    <tr>\n      <th>4</th>\n      <td>1750</td>\n      <td>5</td>\n      <td>-0.719</td>\n      <td>2.953</td>\n      <td>-0.719</td>\n      <td>0.946</td>\n      <td>NaN</td>\n      <td>NaN</td>\n      <td>NaN</td>\n      <td>NaN</td>\n      <td>NaN</td>\n      <td>NaN</td>\n    </tr>\n  </tbody>\n</table>\n</div>"
                    }, 
                    "execution_count": 20, 
                    "metadata": {}
                }
            ], 
            "execution_count": 20
        }, 
        {
            "source": "We are going to focus on the monthly average only so we get rid of rest of the columns. Also, we convert the data-entries to numeric format from string format.", 
            "cell_type": "markdown", 
            "metadata": {}
        }, 
        {
            "source": "# We only select the Monthly anomaly and uncertainity\ndf_filtered=df[['year','month','Monthly_Anomaly','Monthly_Uncertainity']]\nfor col in df_filtered.columns:\n    df_filtered[col]=pd.to_numeric(df_filtered[col],errors='coerce')\ndf_filtered.head()", 
            "cell_type": "code", 
            "metadata": {}, 
            "outputs": [
                {
                    "output_type": "stream", 
                    "name": "stderr", 
                    "text": "/usr/local/src/conda3_runtime/home/envs/DSX-Python35-Spark/lib/python3.5/site-packages/ipykernel/__main__.py:4: SettingWithCopyWarning: \nA value is trying to be set on a copy of a slice from a DataFrame.\nTry using .loc[row_indexer,col_indexer] = value instead\n\nSee the caveats in the documentation: http://pandas.pydata.org/pandas-docs/stable/indexing.html#indexing-view-versus-copy\n"
                }, 
                {
                    "output_type": "execute_result", 
                    "data": {
                        "text/plain": "   year  month  Monthly_Anomaly  Monthly_Uncertainity\n0  1750      1            0.302                 5.003\n1  1750      2           -1.412                 4.161\n2  1750      3           -0.268                 2.682\n3  1750      4            0.702                 1.966\n4  1750      5           -0.719                 2.953", 
                        "text/html": "<div>\n<style scoped>\n    .dataframe tbody tr th:only-of-type {\n        vertical-align: middle;\n    }\n\n    .dataframe tbody tr th {\n        vertical-align: top;\n    }\n\n    .dataframe thead th {\n        text-align: right;\n    }\n</style>\n<table border=\"1\" class=\"dataframe\">\n  <thead>\n    <tr style=\"text-align: right;\">\n      <th></th>\n      <th>year</th>\n      <th>month</th>\n      <th>Monthly_Anomaly</th>\n      <th>Monthly_Uncertainity</th>\n    </tr>\n  </thead>\n  <tbody>\n    <tr>\n      <th>0</th>\n      <td>1750</td>\n      <td>1</td>\n      <td>0.302</td>\n      <td>5.003</td>\n    </tr>\n    <tr>\n      <th>1</th>\n      <td>1750</td>\n      <td>2</td>\n      <td>-1.412</td>\n      <td>4.161</td>\n    </tr>\n    <tr>\n      <th>2</th>\n      <td>1750</td>\n      <td>3</td>\n      <td>-0.268</td>\n      <td>2.682</td>\n    </tr>\n    <tr>\n      <th>3</th>\n      <td>1750</td>\n      <td>4</td>\n      <td>0.702</td>\n      <td>1.966</td>\n    </tr>\n    <tr>\n      <th>4</th>\n      <td>1750</td>\n      <td>5</td>\n      <td>-0.719</td>\n      <td>2.953</td>\n    </tr>\n  </tbody>\n</table>\n</div>"
                    }, 
                    "execution_count": 21, 
                    "metadata": {}
                }
            ], 
            "execution_count": 21
        }, 
        {
            "source": "### Step 3. Fix null values\nFind the time-steps with NaN entries", 
            "cell_type": "markdown", 
            "metadata": {}
        }, 
        {
            "source": "# Let's check for NaN entries and fill zeros to them as we can assign the average of previous and next month\ndf_filtered[df_filtered['Monthly_Anomaly'].isnull()]", 
            "cell_type": "code", 
            "metadata": {}, 
            "outputs": [
                {
                    "output_type": "execute_result", 
                    "data": {
                        "text/plain": "    year  month  Monthly_Anomaly  Monthly_Uncertainity\n23  1751     12              NaN                   NaN", 
                        "text/html": "<div>\n<style scoped>\n    .dataframe tbody tr th:only-of-type {\n        vertical-align: middle;\n    }\n\n    .dataframe tbody tr th {\n        vertical-align: top;\n    }\n\n    .dataframe thead th {\n        text-align: right;\n    }\n</style>\n<table border=\"1\" class=\"dataframe\">\n  <thead>\n    <tr style=\"text-align: right;\">\n      <th></th>\n      <th>year</th>\n      <th>month</th>\n      <th>Monthly_Anomaly</th>\n      <th>Monthly_Uncertainity</th>\n    </tr>\n  </thead>\n  <tbody>\n    <tr>\n      <th>23</th>\n      <td>1751</td>\n      <td>12</td>\n      <td>NaN</td>\n      <td>NaN</td>\n    </tr>\n  </tbody>\n</table>\n</div>"
                    }, 
                    "execution_count": 22, 
                    "metadata": {}
                }
            ], 
            "execution_count": 22
        }, 
        {
            "source": "Insert average value of previous time-step and next time-step in place of the NaN value.", 
            "cell_type": "markdown", 
            "metadata": {}
        }, 
        {
            "source": "NaN_idx=df_filtered[df_filtered['Monthly_Anomaly'].isnull()].index\ndf_filtered.loc[NaN_idx,'Monthly_Anomaly']=(list(df_filtered.loc[NaN_idx-1,'Monthly_Anomaly'])[0]+list(df_filtered.loc[(NaN_idx+1),'Monthly_Anomaly'])[0])/2\ndf_filtered.loc[NaN_idx,'Monthly_Uncertainity']=(list(df_filtered.loc[NaN_idx-1,'Monthly_Uncertainity'])[0]+list(df_filtered.loc[(NaN_idx+1),'Monthly_Uncertainity'])[0])/2", 
            "cell_type": "code", 
            "metadata": {}, 
            "outputs": [
                {
                    "output_type": "stream", 
                    "name": "stderr", 
                    "text": "/usr/local/src/conda3_runtime/home/envs/DSX-Python35-Spark/lib/python3.5/site-packages/pandas/core/indexing.py:537: SettingWithCopyWarning: \nA value is trying to be set on a copy of a slice from a DataFrame.\nTry using .loc[row_indexer,col_indexer] = value instead\n\nSee the caveats in the documentation: http://pandas.pydata.org/pandas-docs/stable/indexing.html#indexing-view-versus-copy\n  self.obj[item] = s\n"
                }
            ], 
            "execution_count": 23
        }, 
        {
            "source": "### Step 4.Create new features\nWe create a new feature called 'Monthly_Temperature' from Monthly_Anomaly by adding the **estimated average Jan 1951-Dec 1980 absolute temperature (C): 8.65**.", 
            "cell_type": "markdown", 
            "metadata": {}
        }, 
        {
            "source": "# Create new column with actual average monthly temperature by adding\ndf_filtered['Monthly_Temperature']=df_filtered['Monthly_Anomaly']+8.65\ndf_filtered.head()", 
            "cell_type": "code", 
            "metadata": {}, 
            "outputs": [
                {
                    "output_type": "stream", 
                    "name": "stderr", 
                    "text": "/usr/local/src/conda3_runtime/home/envs/DSX-Python35-Spark/lib/python3.5/site-packages/ipykernel/__main__.py:2: SettingWithCopyWarning: \nA value is trying to be set on a copy of a slice from a DataFrame.\nTry using .loc[row_indexer,col_indexer] = value instead\n\nSee the caveats in the documentation: http://pandas.pydata.org/pandas-docs/stable/indexing.html#indexing-view-versus-copy\n  from ipykernel import kernelapp as app\n"
                }, 
                {
                    "output_type": "execute_result", 
                    "data": {
                        "text/plain": "   year  month  Monthly_Anomaly  Monthly_Uncertainity  Monthly_Temperature\n0  1750      1            0.302                 5.003                8.952\n1  1750      2           -1.412                 4.161                7.238\n2  1750      3           -0.268                 2.682                8.382\n3  1750      4            0.702                 1.966                9.352\n4  1750      5           -0.719                 2.953                7.931", 
                        "text/html": "<div>\n<style scoped>\n    .dataframe tbody tr th:only-of-type {\n        vertical-align: middle;\n    }\n\n    .dataframe tbody tr th {\n        vertical-align: top;\n    }\n\n    .dataframe thead th {\n        text-align: right;\n    }\n</style>\n<table border=\"1\" class=\"dataframe\">\n  <thead>\n    <tr style=\"text-align: right;\">\n      <th></th>\n      <th>year</th>\n      <th>month</th>\n      <th>Monthly_Anomaly</th>\n      <th>Monthly_Uncertainity</th>\n      <th>Monthly_Temperature</th>\n    </tr>\n  </thead>\n  <tbody>\n    <tr>\n      <th>0</th>\n      <td>1750</td>\n      <td>1</td>\n      <td>0.302</td>\n      <td>5.003</td>\n      <td>8.952</td>\n    </tr>\n    <tr>\n      <th>1</th>\n      <td>1750</td>\n      <td>2</td>\n      <td>-1.412</td>\n      <td>4.161</td>\n      <td>7.238</td>\n    </tr>\n    <tr>\n      <th>2</th>\n      <td>1750</td>\n      <td>3</td>\n      <td>-0.268</td>\n      <td>2.682</td>\n      <td>8.382</td>\n    </tr>\n    <tr>\n      <th>3</th>\n      <td>1750</td>\n      <td>4</td>\n      <td>0.702</td>\n      <td>1.966</td>\n      <td>9.352</td>\n    </tr>\n    <tr>\n      <th>4</th>\n      <td>1750</td>\n      <td>5</td>\n      <td>-0.719</td>\n      <td>2.953</td>\n      <td>7.931</td>\n    </tr>\n  </tbody>\n</table>\n</div>"
                    }, 
                    "execution_count": 24, 
                    "metadata": {}
                }
            ], 
            "execution_count": 24
        }, 
        {
            "source": "We create new feature called 'Date' using the Year and month features. We save this feature in the datetime format.", 
            "cell_type": "markdown", 
            "metadata": {}
        }, 
        {
            "source": "df_date = pd.DataFrame({'year': list(df_filtered.year),\n                       'month': list(df_filtered.month),\n                       'day': list(np.repeat(1,len(df_filtered)))})\ndf_filtered['Date']=pd.to_datetime(df_date)", 
            "cell_type": "code", 
            "metadata": {}, 
            "outputs": [
                {
                    "output_type": "stream", 
                    "name": "stderr", 
                    "text": "/usr/local/src/conda3_runtime/home/envs/DSX-Python35-Spark/lib/python3.5/site-packages/ipykernel/__main__.py:4: SettingWithCopyWarning: \nA value is trying to be set on a copy of a slice from a DataFrame.\nTry using .loc[row_indexer,col_indexer] = value instead\n\nSee the caveats in the documentation: http://pandas.pydata.org/pandas-docs/stable/indexing.html#indexing-view-versus-copy\n"
                }
            ], 
            "execution_count": 25
        }, 
        {
            "source": "Finally, we get rid of the 'year', 'month' and 'Monthly_Anomaly' columns.", 
            "cell_type": "markdown", 
            "metadata": {}
        }, 
        {
            "source": "df_filtered.drop(columns=['year','month','Monthly_Anomaly'],inplace=True)", 
            "cell_type": "code", 
            "metadata": {}, 
            "outputs": [
                {
                    "output_type": "stream", 
                    "name": "stderr", 
                    "text": "/usr/local/src/conda3_runtime/home/envs/DSX-Python35-Spark/lib/python3.5/site-packages/ipykernel/__main__.py:1: SettingWithCopyWarning: \nA value is trying to be set on a copy of a slice from a DataFrame\n\nSee the caveats in the documentation: http://pandas.pydata.org/pandas-docs/stable/indexing.html#indexing-view-versus-copy\n  if __name__ == '__main__':\n"
                }
            ], 
            "execution_count": 26
        }, 
        {
            "source": "df_filtered.head()", 
            "cell_type": "code", 
            "metadata": {}, 
            "outputs": [
                {
                    "output_type": "execute_result", 
                    "data": {
                        "text/plain": "   Monthly_Uncertainity  Monthly_Temperature       Date\n0                 5.003                8.952 1750-01-01\n1                 4.161                7.238 1750-02-01\n2                 2.682                8.382 1750-03-01\n3                 1.966                9.352 1750-04-01\n4                 2.953                7.931 1750-05-01", 
                        "text/html": "<div>\n<style scoped>\n    .dataframe tbody tr th:only-of-type {\n        vertical-align: middle;\n    }\n\n    .dataframe tbody tr th {\n        vertical-align: top;\n    }\n\n    .dataframe thead th {\n        text-align: right;\n    }\n</style>\n<table border=\"1\" class=\"dataframe\">\n  <thead>\n    <tr style=\"text-align: right;\">\n      <th></th>\n      <th>Monthly_Uncertainity</th>\n      <th>Monthly_Temperature</th>\n      <th>Date</th>\n    </tr>\n  </thead>\n  <tbody>\n    <tr>\n      <th>0</th>\n      <td>5.003</td>\n      <td>8.952</td>\n      <td>1750-01-01</td>\n    </tr>\n    <tr>\n      <th>1</th>\n      <td>4.161</td>\n      <td>7.238</td>\n      <td>1750-02-01</td>\n    </tr>\n    <tr>\n      <th>2</th>\n      <td>2.682</td>\n      <td>8.382</td>\n      <td>1750-03-01</td>\n    </tr>\n    <tr>\n      <th>3</th>\n      <td>1.966</td>\n      <td>9.352</td>\n      <td>1750-04-01</td>\n    </tr>\n    <tr>\n      <th>4</th>\n      <td>2.953</td>\n      <td>7.931</td>\n      <td>1750-05-01</td>\n    </tr>\n  </tbody>\n</table>\n</div>"
                    }, 
                    "execution_count": 27, 
                    "metadata": {}
                }
            ], 
            "execution_count": 27
        }, 
        {
            "source": "### Save the cleaned up data\nCongratulation all data cleaning is done, starting from the raw text file we got the dataframe with monthly average temperature and uncertainity. Let's save this dataframe", 
            "cell_type": "markdown", 
            "metadata": {}
        }, 
        {
            "source": "df_filtered.to_csv('Global_temperature.csv',index=False)\nwith open('Global_temperature.csv', 'rb') as data:\n     cos.upload_fileobj(data,  credentials_1['BUCKET'], 'Global_temperature.csv')", 
            "cell_type": "code", 
            "metadata": {}, 
            "outputs": [], 
            "execution_count": 35
        }
    ], 
    "metadata": {
        "kernelspec": {
            "display_name": "Python 3.5 with Spark 2.1", 
            "name": "python3-spark21", 
            "language": "python"
        }, 
        "language_info": {
            "mimetype": "text/x-python", 
            "nbconvert_exporter": "python", 
            "version": "3.5.4", 
            "name": "python", 
            "pygments_lexer": "ipython3", 
            "file_extension": ".py", 
            "codemirror_mode": {
                "version": 3, 
                "name": "ipython"
            }
        }
    }, 
    "nbformat": 4
}